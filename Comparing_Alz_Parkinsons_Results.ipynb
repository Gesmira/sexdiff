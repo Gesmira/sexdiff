{
  "nbformat": 4,
  "nbformat_minor": 0,
  "metadata": {
    "colab": {
      "provenance": []
    },
    "kernelspec": {
      "name": "python3",
      "display_name": "Python 3"
    },
    "language_info": {
      "name": "python"
    }
  },
  "cells": [
    {
      "cell_type": "markdown",
      "source": [
        "### Load Alzheimer's RF results"
      ],
      "metadata": {
        "id": "-MvFbjToPeHd"
      }
    },
    {
      "cell_type": "code",
      "execution_count": 1,
      "metadata": {
        "colab": {
          "base_uri": "https://localhost:8080/"
        },
        "id": "0Q-gi2VyPTvn",
        "outputId": "2eded5f8-e692-4496-d58d-bc95cdd0770a"
      },
      "outputs": [
        {
          "output_type": "stream",
          "name": "stderr",
          "text": [
            "Downloading...\n",
            "From: https://drive.google.com/uc?id=1-4IlB7kf8JxacckS7FoL190G9q-UpLM0\n",
            "To: /content/rf_results.pkl\n",
            "100%|██████████| 14.8k/14.8k [00:00<00:00, 1.59MB/s]\n"
          ]
        }
      ],
      "source": [
        "import gdown\n",
        "import pickle\n",
        "\n",
        "# https://drive.google.com/file/d/1-4IlB7kf8JxacckS7FoL190G9q-UpLM0/view?usp=drive_link\n",
        "file_id = \"1-4IlB7kf8JxacckS7FoL190G9q-UpLM0\"\n",
        "\n",
        "# Construct the direct-download URL\n",
        "url = f\"https://drive.google.com/uc?id={file_id}\"\n",
        "\n",
        "output = \"rf_results.pkl\"\n",
        "gdown.download(url, output, quiet=False)\n",
        "\n",
        "# Load the pickle\n",
        "with open(output, \"rb\") as f:\n",
        "    results_alz = pickle.load(f)\n",
        "\n"
      ]
    },
    {
      "cell_type": "markdown",
      "source": [
        "### Load Parkinson's RF results"
      ],
      "metadata": {
        "id": "6kijHGMIPjwq"
      }
    },
    {
      "cell_type": "code",
      "source": [
        "#    https://drive.google.com/file/d/1-26wbeKxkRet_TuEqPWq7LTL8Yl2MNqn/view?usp=drive_link\n",
        "file_id = \"1-26wbeKxkRet_TuEqPWq7LTL8Yl2MNqn\"\n",
        "\n",
        "# Construct the direct-download URL\n",
        "url = f\"https://drive.google.com/uc?id={file_id}\"\n",
        "\n",
        "output = \"rf_results.pkl\"\n",
        "gdown.download(url, output, quiet=False)\n",
        "\n",
        "# Load the pickle\n",
        "with open(output, \"rb\") as f:\n",
        "    results_park = pickle.load(f)\n",
        "\n"
      ],
      "metadata": {
        "colab": {
          "base_uri": "https://localhost:8080/"
        },
        "id": "LQZiemliPmOa",
        "outputId": "9b351eb0-13cd-45bb-d56f-be1bf3011575"
      },
      "execution_count": 2,
      "outputs": [
        {
          "output_type": "stream",
          "name": "stderr",
          "text": [
            "Downloading...\n",
            "From: https://drive.google.com/uc?id=1-26wbeKxkRet_TuEqPWq7LTL8Yl2MNqn\n",
            "To: /content/rf_results.pkl\n",
            "100%|██████████| 7.25k/7.25k [00:00<00:00, 13.6MB/s]\n"
          ]
        }
      ]
    },
    {
      "cell_type": "code",
      "source": [
        "import pandas as pd\n",
        "\n",
        "# results_alz and results_park have the structure:\n",
        "# { cell_type: { 'female': df_feat, 'male': df_feat }, ... }\n",
        "\n",
        "records = []\n",
        "cell_types = set(results_alz.keys()) & set(results_park.keys())\n",
        "sexes      = ['female','male']\n",
        "\n",
        "for ct in sorted(cell_types):\n",
        "    for sex in sexes:\n",
        "        df_a = results_alz[ct].get(sex)\n",
        "        df_p = results_park[ct].get(sex)\n",
        "        if df_a is None or df_p is None:\n",
        "            # one of them missing or filtered out\n",
        "            continue\n",
        "\n",
        "        set_a = set(df_a.index)\n",
        "        set_p = set(df_p.index)\n",
        "        inter = set_a & set_p\n",
        "        union = set_a | set_p\n",
        "\n",
        "        records.append({\n",
        "            'cell_type': ct,\n",
        "            'sex':       sex,\n",
        "            'n_alz':     len(set_a),\n",
        "            'n_park':    len(set_p),\n",
        "            'overlap':   len(inter),\n",
        "            'jaccard':   len(inter) / len(union) if union else 0,\n",
        "            'alz_only':  sorted(set_a - set_p),\n",
        "            'park_only': sorted(set_p - set_a),\n",
        "            'common':    sorted(inter)\n",
        "        })\n",
        "\n",
        "df_compare = pd.DataFrame(records)\n",
        "\n",
        "print(df_compare[['cell_type','sex','n_alz','n_park','overlap','jaccard']])\n",
        "\n"
      ],
      "metadata": {
        "colab": {
          "base_uri": "https://localhost:8080/"
        },
        "id": "XxIkX9IIPyCa",
        "outputId": "ad655aaa-5640-4089-f2aa-67cc32ad3b3e"
      },
      "execution_count": 3,
      "outputs": [
        {
          "output_type": "stream",
          "name": "stdout",
          "text": [
            "                        cell_type     sex  n_alz  n_park  overlap   jaccard\n",
            "0                endothelial cell  female    100      48        9  0.064748\n",
            "1                endothelial cell    male    100      79       10  0.059172\n",
            "2                          neuron  female     17      32        6  0.139535\n",
            "3                          neuron    male     14      21        0  0.000000\n",
            "4                 oligodendrocyte  female     26      34        4  0.071429\n",
            "5                 oligodendrocyte    male     22      11        1  0.031250\n",
            "6  oligodendrocyte precursor cell  female     46      90        7  0.054264\n",
            "7  oligodendrocyte precursor cell    male     37      29        2  0.031250\n"
          ]
        }
      ]
    },
    {
      "cell_type": "code",
      "source": [
        "# assume df_compare has the columns:\n",
        "# ['cell_type','sex','overlap','common',...]\n",
        "for _, row in df_compare.iterrows():\n",
        "    ct     = row['cell_type']\n",
        "    sex    = row['sex']\n",
        "    shared = row['common']      # list of shared genes\n",
        "    # if none, skip\n",
        "    if not shared:\n",
        "        continue\n",
        "\n",
        "    print(f\"{ct} / {sex} — shared {len(shared)} genes:\")\n",
        "    print(\", \".join(shared))\n",
        "    print()\n"
      ],
      "metadata": {
        "colab": {
          "base_uri": "https://localhost:8080/"
        },
        "id": "xxuyfFtoSdGk",
        "outputId": "256ac1c4-03a2-4c5d-930c-1ba926ec60f3"
      },
      "execution_count": 4,
      "outputs": [
        {
          "output_type": "stream",
          "name": "stdout",
          "text": [
            "endothelial cell / female — shared 9 genes:\n",
            "HSP90AA1, HSPB1, MT-CO1, MT-CO2, MT-CO3, MT-ND1, MT-ND4, NEAT1, PECAM1\n",
            "\n",
            "endothelial cell / male — shared 10 genes:\n",
            "ATP10A, FTL, GAPDH, ID1, MT-CO1, MT-CO2, SLC2A1, SLCO4A1, THSD4, TNS1\n",
            "\n",
            "neuron / female — shared 6 genes:\n",
            "LINC00486, MT-CO1, MT-CO2, MT-CO3, MT-RNR2, XIST\n",
            "\n",
            "oligodendrocyte / female — shared 4 genes:\n",
            "HSP90AA1, MT-CO1, NEAT1, XIST\n",
            "\n",
            "oligodendrocyte / male — shared 1 genes:\n",
            "HSP90AA1\n",
            "\n",
            "oligodendrocyte precursor cell / female — shared 7 genes:\n",
            "DGKG, GRIK1, LINC00486, MT-CO1, PARD3, SMOC1, XIST\n",
            "\n",
            "oligodendrocyte precursor cell / male — shared 2 genes:\n",
            "HSP90AA1, VCAN\n",
            "\n"
          ]
        }
      ]
    },
    {
      "cell_type": "code",
      "source": [
        "# Build a summary list with Jaccard\n",
        "records = []\n",
        "for _, row in df_compare.iterrows():\n",
        "    shared = row['common']\n",
        "    if not shared:\n",
        "        continue\n",
        "\n",
        "    records.append({\n",
        "        'Cell type':      row['cell_type'],\n",
        "        'Sex':            row['sex'].capitalize(),\n",
        "        'Jaccard Index':  f\"{row['jaccard']:.2f}\",\n",
        "        'Shared genes':   \", \".join(shared)\n",
        "    })\n",
        "\n",
        "\n",
        "summary_df = pd.DataFrame(records)\n",
        "\n",
        "# Sort\n",
        "summary_df = summary_df.sort_values(['Cell type','Sex']).reset_index(drop=True)\n",
        "\n",
        "# HTML table\n",
        "from IPython.display import display, HTML\n",
        "display(HTML(summary_df.to_html(index=False, escape=False)))\n"
      ],
      "metadata": {
        "colab": {
          "base_uri": "https://localhost:8080/",
          "height": 269
        },
        "id": "JXEIsf2kdrJg",
        "outputId": "9055239b-38fa-48c7-ebd3-f1fd6ac10c35"
      },
      "execution_count": 5,
      "outputs": [
        {
          "output_type": "display_data",
          "data": {
            "text/plain": [
              "<IPython.core.display.HTML object>"
            ],
            "text/html": [
              "<table border=\"1\" class=\"dataframe\">\n",
              "  <thead>\n",
              "    <tr style=\"text-align: right;\">\n",
              "      <th>Cell type</th>\n",
              "      <th>Sex</th>\n",
              "      <th>Jaccard Index</th>\n",
              "      <th>Shared genes</th>\n",
              "    </tr>\n",
              "  </thead>\n",
              "  <tbody>\n",
              "    <tr>\n",
              "      <td>endothelial cell</td>\n",
              "      <td>Female</td>\n",
              "      <td>0.06</td>\n",
              "      <td>HSP90AA1, HSPB1, MT-CO1, MT-CO2, MT-CO3, MT-ND1, MT-ND4, NEAT1, PECAM1</td>\n",
              "    </tr>\n",
              "    <tr>\n",
              "      <td>endothelial cell</td>\n",
              "      <td>Male</td>\n",
              "      <td>0.06</td>\n",
              "      <td>ATP10A, FTL, GAPDH, ID1, MT-CO1, MT-CO2, SLC2A1, SLCO4A1, THSD4, TNS1</td>\n",
              "    </tr>\n",
              "    <tr>\n",
              "      <td>neuron</td>\n",
              "      <td>Female</td>\n",
              "      <td>0.14</td>\n",
              "      <td>LINC00486, MT-CO1, MT-CO2, MT-CO3, MT-RNR2, XIST</td>\n",
              "    </tr>\n",
              "    <tr>\n",
              "      <td>oligodendrocyte</td>\n",
              "      <td>Female</td>\n",
              "      <td>0.07</td>\n",
              "      <td>HSP90AA1, MT-CO1, NEAT1, XIST</td>\n",
              "    </tr>\n",
              "    <tr>\n",
              "      <td>oligodendrocyte</td>\n",
              "      <td>Male</td>\n",
              "      <td>0.03</td>\n",
              "      <td>HSP90AA1</td>\n",
              "    </tr>\n",
              "    <tr>\n",
              "      <td>oligodendrocyte precursor cell</td>\n",
              "      <td>Female</td>\n",
              "      <td>0.05</td>\n",
              "      <td>DGKG, GRIK1, LINC00486, MT-CO1, PARD3, SMOC1, XIST</td>\n",
              "    </tr>\n",
              "    <tr>\n",
              "      <td>oligodendrocyte precursor cell</td>\n",
              "      <td>Male</td>\n",
              "      <td>0.03</td>\n",
              "      <td>HSP90AA1, VCAN</td>\n",
              "    </tr>\n",
              "  </tbody>\n",
              "</table>"
            ]
          },
          "metadata": {}
        }
      ]
    },
    {
      "cell_type": "code",
      "source": [
        "# Make a nice looking table\n",
        "from IPython.display import display, HTML\n",
        "\n",
        "# CSS styles\n",
        "styles = [\n",
        "    {\n",
        "        'selector': 'th',\n",
        "        'props': [\n",
        "            ('background-color', '#4F81BD'),\n",
        "            ('color', 'white'),\n",
        "            ('font-weight', 'bold'),\n",
        "            ('font-size', '14px'),\n",
        "            ('padding', '8px')\n",
        "        ]\n",
        "    },\n",
        "    {\n",
        "        'selector': 'td',\n",
        "        'props': [\n",
        "            ('padding', '8px'),\n",
        "            ('font-size', '12px'),\n",
        "            ('text-align', 'left')\n",
        "        ]\n",
        "    },\n",
        "    {\n",
        "        'selector': 'tbody tr:nth-child(odd)',\n",
        "        'props': [('background-color', '#F2F2F2')]\n",
        "    },\n",
        "    {\n",
        "        'selector': 'tbody tr:nth-child(even)',\n",
        "        'props': [('background-color', 'white')]\n",
        "    }\n",
        "]\n",
        "\n",
        "# Build the Styler\n",
        "styled = (\n",
        "    summary_df.style\n",
        "      .set_table_styles(styles)\n",
        "      .set_caption(\"**Shared top-100 RF predictors**<br>Alzheimer vs. Parkinson\")\n",
        ")\n",
        "\n",
        "display(styled)\n",
        "\n"
      ],
      "metadata": {
        "colab": {
          "base_uri": "https://localhost:8080/",
          "height": 320
        },
        "id": "Y_aY2yE3egqg",
        "outputId": "ebb7188a-b044-4e49-d2f5-d4a634776b33"
      },
      "execution_count": 6,
      "outputs": [
        {
          "output_type": "display_data",
          "data": {
            "text/plain": [
              "<pandas.io.formats.style.Styler at 0x7f82e443c3d0>"
            ],
            "text/html": [
              "<style type=\"text/css\">\n",
              "#T_34fd9 th {\n",
              "  background-color: #4F81BD;\n",
              "  color: white;\n",
              "  font-weight: bold;\n",
              "  font-size: 14px;\n",
              "  padding: 8px;\n",
              "}\n",
              "#T_34fd9 td {\n",
              "  padding: 8px;\n",
              "  font-size: 12px;\n",
              "  text-align: left;\n",
              "}\n",
              "#T_34fd9 tbody tr:nth-child(odd) {\n",
              "  background-color: #F2F2F2;\n",
              "}\n",
              "#T_34fd9 tbody tr:nth-child(even) {\n",
              "  background-color: white;\n",
              "}\n",
              "</style>\n",
              "<table id=\"T_34fd9\" class=\"dataframe\">\n",
              "  <caption>**Shared top-100 RF predictors**<br>Alzheimer vs. Parkinson</caption>\n",
              "  <thead>\n",
              "    <tr>\n",
              "      <th class=\"blank level0\" >&nbsp;</th>\n",
              "      <th id=\"T_34fd9_level0_col0\" class=\"col_heading level0 col0\" >Cell type</th>\n",
              "      <th id=\"T_34fd9_level0_col1\" class=\"col_heading level0 col1\" >Sex</th>\n",
              "      <th id=\"T_34fd9_level0_col2\" class=\"col_heading level0 col2\" >Jaccard Index</th>\n",
              "      <th id=\"T_34fd9_level0_col3\" class=\"col_heading level0 col3\" >Shared genes</th>\n",
              "    </tr>\n",
              "  </thead>\n",
              "  <tbody>\n",
              "    <tr>\n",
              "      <th id=\"T_34fd9_level0_row0\" class=\"row_heading level0 row0\" >0</th>\n",
              "      <td id=\"T_34fd9_row0_col0\" class=\"data row0 col0\" >endothelial cell</td>\n",
              "      <td id=\"T_34fd9_row0_col1\" class=\"data row0 col1\" >Female</td>\n",
              "      <td id=\"T_34fd9_row0_col2\" class=\"data row0 col2\" >0.06</td>\n",
              "      <td id=\"T_34fd9_row0_col3\" class=\"data row0 col3\" >HSP90AA1, HSPB1, MT-CO1, MT-CO2, MT-CO3, MT-ND1, MT-ND4, NEAT1, PECAM1</td>\n",
              "    </tr>\n",
              "    <tr>\n",
              "      <th id=\"T_34fd9_level0_row1\" class=\"row_heading level0 row1\" >1</th>\n",
              "      <td id=\"T_34fd9_row1_col0\" class=\"data row1 col0\" >endothelial cell</td>\n",
              "      <td id=\"T_34fd9_row1_col1\" class=\"data row1 col1\" >Male</td>\n",
              "      <td id=\"T_34fd9_row1_col2\" class=\"data row1 col2\" >0.06</td>\n",
              "      <td id=\"T_34fd9_row1_col3\" class=\"data row1 col3\" >ATP10A, FTL, GAPDH, ID1, MT-CO1, MT-CO2, SLC2A1, SLCO4A1, THSD4, TNS1</td>\n",
              "    </tr>\n",
              "    <tr>\n",
              "      <th id=\"T_34fd9_level0_row2\" class=\"row_heading level0 row2\" >2</th>\n",
              "      <td id=\"T_34fd9_row2_col0\" class=\"data row2 col0\" >neuron</td>\n",
              "      <td id=\"T_34fd9_row2_col1\" class=\"data row2 col1\" >Female</td>\n",
              "      <td id=\"T_34fd9_row2_col2\" class=\"data row2 col2\" >0.14</td>\n",
              "      <td id=\"T_34fd9_row2_col3\" class=\"data row2 col3\" >LINC00486, MT-CO1, MT-CO2, MT-CO3, MT-RNR2, XIST</td>\n",
              "    </tr>\n",
              "    <tr>\n",
              "      <th id=\"T_34fd9_level0_row3\" class=\"row_heading level0 row3\" >3</th>\n",
              "      <td id=\"T_34fd9_row3_col0\" class=\"data row3 col0\" >oligodendrocyte</td>\n",
              "      <td id=\"T_34fd9_row3_col1\" class=\"data row3 col1\" >Female</td>\n",
              "      <td id=\"T_34fd9_row3_col2\" class=\"data row3 col2\" >0.07</td>\n",
              "      <td id=\"T_34fd9_row3_col3\" class=\"data row3 col3\" >HSP90AA1, MT-CO1, NEAT1, XIST</td>\n",
              "    </tr>\n",
              "    <tr>\n",
              "      <th id=\"T_34fd9_level0_row4\" class=\"row_heading level0 row4\" >4</th>\n",
              "      <td id=\"T_34fd9_row4_col0\" class=\"data row4 col0\" >oligodendrocyte</td>\n",
              "      <td id=\"T_34fd9_row4_col1\" class=\"data row4 col1\" >Male</td>\n",
              "      <td id=\"T_34fd9_row4_col2\" class=\"data row4 col2\" >0.03</td>\n",
              "      <td id=\"T_34fd9_row4_col3\" class=\"data row4 col3\" >HSP90AA1</td>\n",
              "    </tr>\n",
              "    <tr>\n",
              "      <th id=\"T_34fd9_level0_row5\" class=\"row_heading level0 row5\" >5</th>\n",
              "      <td id=\"T_34fd9_row5_col0\" class=\"data row5 col0\" >oligodendrocyte precursor cell</td>\n",
              "      <td id=\"T_34fd9_row5_col1\" class=\"data row5 col1\" >Female</td>\n",
              "      <td id=\"T_34fd9_row5_col2\" class=\"data row5 col2\" >0.05</td>\n",
              "      <td id=\"T_34fd9_row5_col3\" class=\"data row5 col3\" >DGKG, GRIK1, LINC00486, MT-CO1, PARD3, SMOC1, XIST</td>\n",
              "    </tr>\n",
              "    <tr>\n",
              "      <th id=\"T_34fd9_level0_row6\" class=\"row_heading level0 row6\" >6</th>\n",
              "      <td id=\"T_34fd9_row6_col0\" class=\"data row6 col0\" >oligodendrocyte precursor cell</td>\n",
              "      <td id=\"T_34fd9_row6_col1\" class=\"data row6 col1\" >Male</td>\n",
              "      <td id=\"T_34fd9_row6_col2\" class=\"data row6 col2\" >0.03</td>\n",
              "      <td id=\"T_34fd9_row6_col3\" class=\"data row6 col3\" >HSP90AA1, VCAN</td>\n",
              "    </tr>\n",
              "  </tbody>\n",
              "</table>\n"
            ]
          },
          "metadata": {}
        }
      ]
    },
    {
      "cell_type": "code",
      "source": [
        "import seaborn as sns\n",
        "import matplotlib.pyplot as plt\n",
        "\n",
        "# pivot to make a matrix cell_type × sex\n",
        "jmat = df_compare.pivot(index='cell_type', columns='sex', values='jaccard')\n",
        "\n",
        "plt.figure(figsize=(6, len(jmat)*0.5))\n",
        "sns.heatmap(jmat, annot=True, cmap='magma', fmt=\".2f\")\n",
        "plt.title(\"Jaccard Similarity of Top-100 RF Features\\n(Alzheimer's vs Parkinson's)\")\n",
        "plt.tight_layout()\n",
        "plt.show()\n"
      ],
      "metadata": {
        "colab": {
          "base_uri": "https://localhost:8080/",
          "height": 207
        },
        "id": "GrKvhpxXRcSl",
        "outputId": "d7bea464-cb38-4d40-d36b-8e2cd048f4d0"
      },
      "execution_count": 7,
      "outputs": [
        {
          "output_type": "display_data",
          "data": {
            "text/plain": [
              "<Figure size 600x200 with 2 Axes>"
            ],
            "image/png": "[encoded data removed]"
          },
          "metadata": {}
        }
      ]
    }
  ]
}